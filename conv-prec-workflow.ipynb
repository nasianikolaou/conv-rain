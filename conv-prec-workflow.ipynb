{
 "cells": [
  {
   "cell_type": "raw",
   "id": "ed38eee3",
   "metadata": {},
   "source": [
    "# 08.09.2021\n",
    "#\n",
    "#\n",
    "# Project: load a dataset and detect convection collocated with precipitation. The aim is to study/capture what leads to them,\n",
    "#          so we will collect a longer data series of images. \n",
    "# \n",
    "# \n",
    "# Workflow for preparation of the data:\n",
    "#     1. choose the datasets: \n",
    "#               \n",
    "#     2. convert them to pandas dataframe          \n",
    "#               \n",
    "#     3. select regions/events/time interval which contain storms\n",
    "#\n",
    "#     4. choose 2 datasets\n",
    "#\n",
    "#     5. separate into training dataset and testing dataset and use only one to start with\n",
    "#\n",
    "#     6. training dataset: we train the network in sequences of images. Target: to predict the last image.\n",
    "#\n",
    "#     7. Define functions that may be needed on the data products:\n",
    "#        f:: extract a square image on lat/lon coordinates starting point\n",
    "#        f:: calculate Buoyancy f(v,u,T)\n",
    "#        f:: calculate dBuoyancy/dz = CAPE: f(w,       \n",
    "#        f:: calculate upward helicity of a cell (ref?)\n",
    "#        f:: calculate lapse rate dT/dz\n",
    "#\n",
    "#     8. Define pattern extractors on the data products:\n",
    "#        f:: segmentation? find the convective cells g(thresholds)\n"
   ]
  },
  {
   "cell_type": "code",
   "execution_count": 1,
   "id": "35a6bf38",
   "metadata": {},
   "outputs": [],
   "source": [
    "# METHOD CHOSEN FOR GEOSTATIONARY\n",
    "#\n",
    "# Liu and Liu 2018 https://www.scienceopen.com/document_file/5ee622ad-fff7-4f15-8fe4-cd4cf91daa3f/API/JOE.2018.5075.pdf\n",
    "# \n",
    "# tracking convective cells:\n",
    "#\n",
    "# with algorithm: Algorithm: SCEMT-based convective cells tracking\n",
    "#\n",
    "# STEPS OF THE ALGORITHM\n",
    "#Input: Image Ii\n",
    "# on the moment T1, Image Ii+1 on the next moment\n",
    "#T2.\n",
    "#STEP 1: Set Tb\n",
    "# threshold T = 241 K.\n",
    "#  while Tb\n",
    "# >T\n",
    "#  Tb←0\n",
    "#  end while\n",
    "#STEP 2: Compute convective cells Ii\n",
    "# and Ii+1 using EMTRG\n",
    "#algorithm.\n",
    "#STEP 3: Learning spatio-temporal context model according to (6).\n",
    "#STEP 4: Updating the spatio-temporal context model by\n",
    "#Ht + 1\n",
    "#stc = (1 − ρ)Ht\n",
    "#stc + ρht\n",
    "#sc\n",
    "#STEP 5: Updating scale and variance according to (12).\n",
    "#STEP 6: Calculating the confidence map ct + 1(x) of the moment T2.\n",
    "#STEP 7: Calculating the maximum value which location is the\n",
    "#object location.\n",
    "#Output: Results of tracking I_t\n",
    "\n",
    "# BONUS: enhancement of the STEP 2: replace with astronomy algorithm for solar granularity\n",
    "#Fig. 2. Steps of the applied segmentation: (a) normalized emerging intensity and (b) vertical velocity on the τ1-iso-surface of the\n",
    "#ANTARES simulation, (c) initial vertical velocity threshold applied to the vertical velocity on the τ1-iso-surface, (d) subsequent\n",
    "#lower threshold applied to the structure, (e) lowest threshold applied to the structure, (f) edge detection applied to the emerging\n",
    "#intensity of the object, (g) granular cells still connected by pixels after applying of the lowest threshold, (h) morphological opening\n",
    "#to separate connected granular cells, (i) final segmentation mask.\n",
    "\n",
    "\n"
   ]
  },
  {
   "cell_type": "code",
   "execution_count": null,
   "id": "98c538f0",
   "metadata": {},
   "outputs": [],
   "source": [
    "### Workflow for preparation of the data:\n",
    "#     1. choose the datasets: \n",
    "#                   1a. data1re = MSG4-convection product\n",
    "#                   1b. data1re = Eumetsat- global precipitation product\n",
    "#                   1c. data1sat = TROPOMI clouds AVHRSS\n",
    "#                   1d. data1re = microphysics clouds\n",
    "#                   1e. data1syn = Papalexiou stochastic storm velocity fields\n",
    "#                   1f. data1re = ECMWF hourly data\n",
    "#                   1g. data1re = SEVIRI IR 3.9 gives Temperature\n",
    "#                   1h. data1Rad = ground radar data - radiances"
   ]
  },
  {
   "cell_type": "code",
   "execution_count": 3,
   "id": "2695cdf9",
   "metadata": {},
   "outputs": [],
   "source": [
    "# start loading baseline useful packages\n",
    "\n",
    "import torch\n",
    "import torchvision # installed: check OK\n",
    "import torch.nn as nn\n",
    "import pytorch_lightning\n",
    "import numpy as np\n",
    "import pandas as pd\n",
    "import scipy as sp\n",
    "import os\n",
    "import sys\n"
   ]
  },
  {
   "cell_type": "code",
   "execution_count": 12,
   "id": "0acda43b",
   "metadata": {},
   "outputs": [],
   "source": [
    "# What else:\n",
    "#\n",
    "# In order to help your script with functions, load also the conda environment of Climatenet \n",
    "# main features: (this requires some tailoring of the pandas versions and requires a GPU)"
   ]
  },
  {
   "cell_type": "code",
   "execution_count": 9,
   "id": "79be44dd",
   "metadata": {},
   "outputs": [],
   "source": [
    "# orientate the location of files/ scripts\n",
    "dataDIR='/home/anikolaou/conv-rain/data/'\n",
    "eventDIR=dataDIR+'events/Sardegna_storm/'\n",
    "labelled_data_DIR='dataDIR'\n",
    "\n",
    "outputDIR=dataDIR+'output/'\n",
    "trainingDIR=dataDIR+'events/Sardegna_storm/'"
   ]
  },
  {
   "cell_type": "code",
   "execution_count": 10,
   "id": "36df8379",
   "metadata": {},
   "outputs": [
    {
     "ename": "NameError",
     "evalue": "name 'home' is not defined",
     "output_type": "error",
     "traceback": [
      "\u001b[0;31m---------------------------------------------------------------------------\u001b[0m",
      "\u001b[0;31mNameError\u001b[0m                                 Traceback (most recent call last)",
      "\u001b[0;32m<ipython-input-10-b53ea8b5c8bb>\u001b[0m in \u001b[0;36m<module>\u001b[0;34m\u001b[0m\n\u001b[1;32m      3\u001b[0m \u001b[0;31m# this is the longest data series we have and with the highest resolution as it is reanalysis. We can use this for training because it is a detailed series.\u001b[0m\u001b[0;34m\u001b[0m\u001b[0;34m\u001b[0m\u001b[0;34m\u001b[0m\u001b[0m\n\u001b[1;32m      4\u001b[0m \u001b[0;31m#\u001b[0m\u001b[0;34m\u001b[0m\u001b[0;34m\u001b[0m\u001b[0;34m\u001b[0m\u001b[0m\n\u001b[0;32m----> 5\u001b[0;31m \u001b[0mhome\u001b[0m\u001b[0;34m/\u001b[0m\u001b[0manikolaou\u001b[0m\u001b[0;34m/\u001b[0m\u001b[0mconv\u001b[0m\u001b[0;34m-\u001b[0m\u001b[0mrain\u001b[0m\u001b[0;34m/\u001b[0m\u001b[0mdata\u001b[0m\u001b[0;34m/\u001b[0m\u001b[0mevents\u001b[0m\u001b[0;34m/\u001b[0m\u001b[0mSardegna_storm\u001b[0m\u001b[0;34m(\u001b[0m\u001b[0;34m)\u001b[0m\u001b[0;34m\u001b[0m\u001b[0;34m\u001b[0m\u001b[0m\n\u001b[0m",
      "\u001b[0;31mNameError\u001b[0m: name 'home' is not defined"
     ]
    }
   ],
   "source": [
    "# Choose data:\n",
    "# we will use reanalysis ECMWF hourly data of precipitation which is netcdf format\n",
    "# this is the longest data series we have and with the highest resolution as it is reanalysis. We can use this for training because it is a detailed series.\n",
    "# \n",
    "\n",
    "\n",
    "# Load dataset in Tensor format:\n",
    "from torchvision import datasets\n",
    "dataREAN=torch.tensor\n",
    "\n",
    "\n",
    "\n",
    "\n",
    "\n"
   ]
  },
  {
   "cell_type": "code",
   "execution_count": null,
   "id": "7947ed38",
   "metadata": {},
   "outputs": [],
   "source": []
  },
  {
   "cell_type": "code",
   "execution_count": null,
   "id": "e981a0a8",
   "metadata": {},
   "outputs": [],
   "source": []
  },
  {
   "cell_type": "code",
   "execution_count": null,
   "id": "cbadd367",
   "metadata": {},
   "outputs": [],
   "source": []
  },
  {
   "cell_type": "code",
   "execution_count": null,
   "id": "e61003e6",
   "metadata": {},
   "outputs": [],
   "source": []
  },
  {
   "cell_type": "code",
   "execution_count": null,
   "id": "272d2ad6",
   "metadata": {},
   "outputs": [],
   "source": []
  }
 ],
 "metadata": {
  "kernelspec": {
   "display_name": "Python 3",
   "language": "python",
   "name": "python3"
  },
  "language_info": {
   "codemirror_mode": {
    "name": "ipython",
    "version": 3
   },
   "file_extension": ".py",
   "mimetype": "text/x-python",
   "name": "python",
   "nbconvert_exporter": "python",
   "pygments_lexer": "ipython3",
   "version": "3.6.13"
  }
 },
 "nbformat": 4,
 "nbformat_minor": 5
}
